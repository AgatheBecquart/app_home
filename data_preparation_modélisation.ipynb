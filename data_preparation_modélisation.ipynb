{
 "cells": [
  {
   "cell_type": "code",
   "execution_count": 2,
   "metadata": {},
   "outputs": [],
   "source": [
    "import pandas as pd\n",
    "import matplotlib.pyplot as plt\n",
    "from sklearn.model_selection import train_test_split\n",
    "from sklearn.linear_model import LinearRegression"
   ]
  },
  {
   "cell_type": "code",
   "execution_count": 3,
   "metadata": {},
   "outputs": [],
   "source": [
    "df_cleaned = pd.read_csv('kc_house_data_cleaned.csv')"
   ]
  },
  {
   "attachments": {},
   "cell_type": "markdown",
   "metadata": {},
   "source": [
    "# Régréssion Linéaire"
   ]
  },
  {
   "attachments": {},
   "cell_type": "markdown",
   "metadata": {},
   "source": [
    "## Modèle 1 - Basique"
   ]
  },
  {
   "cell_type": "code",
   "execution_count": 75,
   "metadata": {},
   "outputs": [],
   "source": [
    "# Transformer la colonne \"zipcode\" en une variable numérique\n",
    "zipcodes = pd.get_dummies(df_cleaned[\"zipcode\"], prefix=\"zipcode\")\n",
    "yr_built = pd.get_dummies(df_cleaned[\"yr_built\"], prefix=\"yr_built\")\n",
    "\n",
    "# Combiner les variables avec d'autres variables explicatives\n",
    "X = pd.concat([df_cleaned, zipcodes, yr_built], axis=1)\n",
    "X = X.drop(['price', 'date', 'm2_lot15', 'm2_living15', 'price_m2', 'id', 'lat', 'long', 'zipcode', 'yr_built'], axis=1)\n",
    "\n",
    "# Diviser les données en ensembles d'entraînement et de test\n",
    "X_train, X_test, y_train, y_test = train_test_split(X, df_cleaned[\"price\"], test_size=0.2, random_state=420)\n"
   ]
  },
  {
   "attachments": {},
   "cell_type": "markdown",
   "metadata": {},
   "source": [
    "#### Entraînement"
   ]
  },
  {
   "cell_type": "code",
   "execution_count": 76,
   "metadata": {},
   "outputs": [
    {
     "data": {
      "text/html": [
       "<style>#sk-container-id-5 {color: black;background-color: white;}#sk-container-id-5 pre{padding: 0;}#sk-container-id-5 div.sk-toggleable {background-color: white;}#sk-container-id-5 label.sk-toggleable__label {cursor: pointer;display: block;width: 100%;margin-bottom: 0;padding: 0.3em;box-sizing: border-box;text-align: center;}#sk-container-id-5 label.sk-toggleable__label-arrow:before {content: \"▸\";float: left;margin-right: 0.25em;color: #696969;}#sk-container-id-5 label.sk-toggleable__label-arrow:hover:before {color: black;}#sk-container-id-5 div.sk-estimator:hover label.sk-toggleable__label-arrow:before {color: black;}#sk-container-id-5 div.sk-toggleable__content {max-height: 0;max-width: 0;overflow: hidden;text-align: left;background-color: #f0f8ff;}#sk-container-id-5 div.sk-toggleable__content pre {margin: 0.2em;color: black;border-radius: 0.25em;background-color: #f0f8ff;}#sk-container-id-5 input.sk-toggleable__control:checked~div.sk-toggleable__content {max-height: 200px;max-width: 100%;overflow: auto;}#sk-container-id-5 input.sk-toggleable__control:checked~label.sk-toggleable__label-arrow:before {content: \"▾\";}#sk-container-id-5 div.sk-estimator input.sk-toggleable__control:checked~label.sk-toggleable__label {background-color: #d4ebff;}#sk-container-id-5 div.sk-label input.sk-toggleable__control:checked~label.sk-toggleable__label {background-color: #d4ebff;}#sk-container-id-5 input.sk-hidden--visually {border: 0;clip: rect(1px 1px 1px 1px);clip: rect(1px, 1px, 1px, 1px);height: 1px;margin: -1px;overflow: hidden;padding: 0;position: absolute;width: 1px;}#sk-container-id-5 div.sk-estimator {font-family: monospace;background-color: #f0f8ff;border: 1px dotted black;border-radius: 0.25em;box-sizing: border-box;margin-bottom: 0.5em;}#sk-container-id-5 div.sk-estimator:hover {background-color: #d4ebff;}#sk-container-id-5 div.sk-parallel-item::after {content: \"\";width: 100%;border-bottom: 1px solid gray;flex-grow: 1;}#sk-container-id-5 div.sk-label:hover label.sk-toggleable__label {background-color: #d4ebff;}#sk-container-id-5 div.sk-serial::before {content: \"\";position: absolute;border-left: 1px solid gray;box-sizing: border-box;top: 0;bottom: 0;left: 50%;z-index: 0;}#sk-container-id-5 div.sk-serial {display: flex;flex-direction: column;align-items: center;background-color: white;padding-right: 0.2em;padding-left: 0.2em;position: relative;}#sk-container-id-5 div.sk-item {position: relative;z-index: 1;}#sk-container-id-5 div.sk-parallel {display: flex;align-items: stretch;justify-content: center;background-color: white;position: relative;}#sk-container-id-5 div.sk-item::before, #sk-container-id-5 div.sk-parallel-item::before {content: \"\";position: absolute;border-left: 1px solid gray;box-sizing: border-box;top: 0;bottom: 0;left: 50%;z-index: -1;}#sk-container-id-5 div.sk-parallel-item {display: flex;flex-direction: column;z-index: 1;position: relative;background-color: white;}#sk-container-id-5 div.sk-parallel-item:first-child::after {align-self: flex-end;width: 50%;}#sk-container-id-5 div.sk-parallel-item:last-child::after {align-self: flex-start;width: 50%;}#sk-container-id-5 div.sk-parallel-item:only-child::after {width: 0;}#sk-container-id-5 div.sk-dashed-wrapped {border: 1px dashed gray;margin: 0 0.4em 0.5em 0.4em;box-sizing: border-box;padding-bottom: 0.4em;background-color: white;}#sk-container-id-5 div.sk-label label {font-family: monospace;font-weight: bold;display: inline-block;line-height: 1.2em;}#sk-container-id-5 div.sk-label-container {text-align: center;}#sk-container-id-5 div.sk-container {/* jupyter's `normalize.less` sets `[hidden] { display: none; }` but bootstrap.min.css set `[hidden] { display: none !important; }` so we also need the `!important` here to be able to override the default hidden behavior on the sphinx rendered scikit-learn.org. See: https://github.com/scikit-learn/scikit-learn/issues/21755 */display: inline-block !important;position: relative;}#sk-container-id-5 div.sk-text-repr-fallback {display: none;}</style><div id=\"sk-container-id-5\" class=\"sk-top-container\"><div class=\"sk-text-repr-fallback\"><pre>LinearRegression()</pre><b>In a Jupyter environment, please rerun this cell to show the HTML representation or trust the notebook. <br />On GitHub, the HTML representation is unable to render, please try loading this page with nbviewer.org.</b></div><div class=\"sk-container\" hidden><div class=\"sk-item\"><div class=\"sk-estimator sk-toggleable\"><input class=\"sk-toggleable__control sk-hidden--visually\" id=\"sk-estimator-id-5\" type=\"checkbox\" checked><label for=\"sk-estimator-id-5\" class=\"sk-toggleable__label sk-toggleable__label-arrow\">LinearRegression</label><div class=\"sk-toggleable__content\"><pre>LinearRegression()</pre></div></div></div></div></div>"
      ],
      "text/plain": [
       "LinearRegression()"
      ]
     },
     "execution_count": 76,
     "metadata": {},
     "output_type": "execute_result"
    }
   ],
   "source": [
    "# Entraîner le modèle de régression linéaire\n",
    "model = LinearRegression().fit(X_train, y_train)\n",
    "model"
   ]
  },
  {
   "attachments": {},
   "cell_type": "markdown",
   "metadata": {},
   "source": [
    "#### Scoring"
   ]
  },
  {
   "cell_type": "code",
   "execution_count": 77,
   "metadata": {},
   "outputs": [
    {
     "data": {
      "text/plain": [
       "0.8184652230201593"
      ]
     },
     "execution_count": 77,
     "metadata": {},
     "output_type": "execute_result"
    }
   ],
   "source": [
    "model.score(X_test, y_test)"
   ]
  },
  {
   "attachments": {},
   "cell_type": "markdown",
   "metadata": {},
   "source": [
    "#### Prédiction"
   ]
  },
  {
   "cell_type": "code",
   "execution_count": 78,
   "metadata": {},
   "outputs": [
    {
     "data": {
      "text/plain": [
       "array([262325.13671875, 705657.390625  , 544993.765625  , ...,\n",
       "       586543.5546875 , 561460.59375   , 368273.68359375])"
      ]
     },
     "execution_count": 78,
     "metadata": {},
     "output_type": "execute_result"
    }
   ],
   "source": [
    "y_pred_test=model.predict(X_test)\n",
    "y_pred_test"
   ]
  },
  {
   "cell_type": "code",
   "execution_count": 79,
   "metadata": {},
   "outputs": [
    {
     "data": {
      "text/plain": [
       "8878     280000.0\n",
       "19302    575000.0\n",
       "1564     610000.0\n",
       "4055     703011.0\n",
       "7526     614285.0\n",
       "           ...   \n",
       "14763    213675.0\n",
       "14289    400000.0\n",
       "7275     485000.0\n",
       "20525    374500.0\n",
       "20869    428000.0\n",
       "Name: price, Length: 4323, dtype: float64"
      ]
     },
     "execution_count": 79,
     "metadata": {},
     "output_type": "execute_result"
    }
   ],
   "source": [
    "y_test"
   ]
  },
  {
   "attachments": {},
   "cell_type": "markdown",
   "metadata": {},
   "source": [
    "#### Représentation"
   ]
  },
  {
   "cell_type": "code",
   "execution_count": 80,
   "metadata": {},
   "outputs": [
    {
     "data": {
      "image/png": "[encoded data removed]",
      "text/plain": [
       "<Figure size 640x480 with 1 Axes>"
      ]
     },
     "metadata": {},
     "output_type": "display_data"
    }
   ],
   "source": [
    "plt.scatter(y_test, y_pred_test)\n",
    "plt.xlabel(\"Prix réel\")\n",
    "plt.ylabel(\"Prédiction de prix de vente\")\n",
    "plt.title(\"Prix réel vs Prédiction de prix de vente (ensemble de test)\")\n",
    "plt.show()"
   ]
  },
  {
   "attachments": {},
   "cell_type": "markdown",
   "metadata": {},
   "source": [
    "## Modèle 2 - MinMaxScaler"
   ]
  },
  {
   "cell_type": "code",
   "execution_count": 81,
   "metadata": {},
   "outputs": [],
   "source": [
    "from sklearn.model_selection import train_test_split\n",
    "y = df_cleaned['price']\n",
    "X = df_cleaned.drop(['price', 'date', 'm2_lot15', 'm2_living15', 'price_m2', 'id', 'lat', 'long'], axis=1)\n",
    "X_train, X_test, y_train, y_test = train_test_split(X, y, train_size=0.8, random_state=420)\n",
    "\n",
    "\n",
    "# On cree un pipeline de proprocessing pour les variables numériques\n",
    "numeric_features = X.select_dtypes(include=['float', 'int']).columns.tolist()\n",
    "\n",
    "from sklearn.pipeline import Pipeline\n",
    "from sklearn.preprocessing import MinMaxScaler\n",
    "\n",
    "\n",
    "numeric_transformer = Pipeline([\n",
    "        ('stdscaler', MinMaxScaler()),  # moyenne nulle et écart type = 1 -> Reg, SVM, PCA\n",
    "        ])\n",
    "\n",
    "# On cree un pre-processeur pour les variables catégorielles\n",
    "categorial_features = [\"zipcode\",\"yr_built\"]\n",
    "\n",
    "from sklearn.preprocessing import OneHotEncoder\n",
    "categorical_transformer = OneHotEncoder()\n",
    "\n",
    "\n",
    "# a l'aide de la classe ColumnTransformer, \n",
    "# on déclare à quelles variables on applique quel transformer\n",
    "from sklearn.compose import ColumnTransformer\n",
    "preprocessor = ColumnTransformer(\n",
    "    transformers=[\n",
    "        ('num', numeric_transformer, numeric_features),\n",
    "        ('cat', categorical_transformer, categorial_features)\n",
    "    ]\n",
    ")\n",
    "\n",
    "\n",
    "#On obtient un pipeline de preprocessing qu'on peut utiliser dans un pipeline d'entainement\n",
    "linear = LinearRegression()\n",
    "\n",
    "pipe = Pipeline([\n",
    "     ('prep', preprocessor),\n",
    "     ('linear', linear)\n",
    "])"
   ]
  },
  {
   "cell_type": "code",
   "execution_count": 82,
   "metadata": {},
   "outputs": [
    {
     "name": "stdout",
     "output_type": "stream",
     "text": [
      "0.8184652991988743\n",
      "[262322.93899153 705657.3241143  544993.01452801 ... 586544.85125046\n",
      " 561455.05293684 368277.21281968]\n",
      "8878     280000.0\n",
      "19302    575000.0\n",
      "1564     610000.0\n",
      "4055     703011.0\n",
      "7526     614285.0\n",
      "           ...   \n",
      "14763    213675.0\n",
      "14289    400000.0\n",
      "7275     485000.0\n",
      "20525    374500.0\n",
      "20869    428000.0\n",
      "Name: price, Length: 4323, dtype: float64\n"
     ]
    }
   ],
   "source": [
    "# Entrainement sur X_train\n",
    "trained_pipe = pipe.fit(X_train,y_train)\n",
    "\n",
    "# prediction sur X_test\n",
    "y_pred=trained_pipe.predict(X_test)\n",
    "\n",
    "# scoring sur X_test\n",
    "score = trained_pipe.score(X_test,y_test)\n",
    "\n",
    "print(score)\n",
    "print(y_pred)\n",
    "print(y_test)"
   ]
  },
  {
   "attachments": {},
   "cell_type": "markdown",
   "metadata": {},
   "source": [
    "## Modèle 3 - Polynomiales Features"
   ]
  },
  {
   "cell_type": "code",
   "execution_count": 105,
   "metadata": {},
   "outputs": [],
   "source": [
    "from sklearn.model_selection import train_test_split\n",
    "y = df_cleaned['price']\n",
    "X = df_cleaned.drop(['price', 'date', 'm2_lot15', 'm2_living15', 'price_m2', 'id', 'lat', 'long'], axis=1)\n",
    "X_train, X_test, y_train, y_test = train_test_split(X, y, train_size=0.8, random_state=420)\n",
    "\n",
    "\n",
    "# On cree un pipeline de proprocessing pour les variables numériques\n",
    "numeric_features = X.select_dtypes(include=['float', 'int']).columns.tolist()\n",
    "\n",
    "from sklearn.pipeline import Pipeline\n",
    "from sklearn.preprocessing import MinMaxScaler\n",
    "from sklearn.preprocessing import PolynomialFeatures\n",
    "\n",
    "# On ajoute PolynomialFeatures dans notre pipeline de prétraitement\n",
    "numeric_transformer = Pipeline([\n",
    "        ('poly', PolynomialFeatures(degree=2, include_bias=False)),\n",
    "        ('stdscaler', MinMaxScaler())\n",
    "])\n",
    "\n",
    "# On cree un pre-processeur pour les variables catégorielles\n",
    "categorial_features = [\"zipcode\", \"yr_built\"]\n",
    "\n",
    "from sklearn.preprocessing import OneHotEncoder\n",
    "categorical_transformer = OneHotEncoder()\n",
    "\n",
    "\n",
    "# a l'aide de la classe ColumnTransformer, \n",
    "# on déclare à quelles variables on applique quel transformer\n",
    "from sklearn.compose import ColumnTransformer\n",
    "preprocessor = ColumnTransformer(\n",
    "    transformers=[\n",
    "        ('num', numeric_transformer, numeric_features),\n",
    "        ('cat', categorical_transformer, categorial_features)\n",
    "    ]\n",
    ")\n",
    "\n",
    "#On obtient un pipeline de preprocessing qu'on peut utiliser dans un pipeline d'entainement\n",
    "linear = LinearRegression()\n",
    "\n",
    "pipe = Pipeline([\n",
    "     ('prep', preprocessor),\n",
    "     ('linear', linear)\n",
    "])\n",
    "\n",
    "import pickle\n",
    "with open('trained_pipeline.pkl', 'wb') as f:\n",
    "    pickle.dump(trained_pipe, f)"
   ]
  },
  {
   "cell_type": "code",
   "execution_count": 84,
   "metadata": {},
   "outputs": [
    {
     "data": {
      "text/html": [
       "<div>\n",
       "<style scoped>\n",
       "    .dataframe tbody tr th:only-of-type {\n",
       "        vertical-align: middle;\n",
       "    }\n",
       "\n",
       "    .dataframe tbody tr th {\n",
       "        vertical-align: top;\n",
       "    }\n",
       "\n",
       "    .dataframe thead th {\n",
       "        text-align: right;\n",
       "    }\n",
       "</style>\n",
       "<table border=\"1\" class=\"dataframe\">\n",
       "  <thead>\n",
       "    <tr style=\"text-align: right;\">\n",
       "      <th></th>\n",
       "      <th>bedrooms</th>\n",
       "      <th>bathrooms</th>\n",
       "      <th>m2_living</th>\n",
       "      <th>m2_lot</th>\n",
       "      <th>floors</th>\n",
       "      <th>waterfront</th>\n",
       "      <th>view</th>\n",
       "      <th>condition</th>\n",
       "      <th>grade</th>\n",
       "      <th>m2_above</th>\n",
       "      <th>yr_built</th>\n",
       "      <th>zipcode</th>\n",
       "      <th>has_basement</th>\n",
       "      <th>was_renovated</th>\n",
       "    </tr>\n",
       "  </thead>\n",
       "  <tbody>\n",
       "    <tr>\n",
       "      <th>978</th>\n",
       "      <td>3</td>\n",
       "      <td>1.0</td>\n",
       "      <td>118.91584</td>\n",
       "      <td>809.370936</td>\n",
       "      <td>1.0</td>\n",
       "      <td>0</td>\n",
       "      <td>0</td>\n",
       "      <td>4</td>\n",
       "      <td>7</td>\n",
       "      <td>118.91584</td>\n",
       "      <td>1950_to_1975</td>\n",
       "      <td>98003</td>\n",
       "      <td>0</td>\n",
       "      <td>0</td>\n",
       "    </tr>\n",
       "    <tr>\n",
       "      <th>14162</th>\n",
       "      <td>3</td>\n",
       "      <td>2.0</td>\n",
       "      <td>152.36092</td>\n",
       "      <td>524.901950</td>\n",
       "      <td>1.0</td>\n",
       "      <td>0</td>\n",
       "      <td>0</td>\n",
       "      <td>3</td>\n",
       "      <td>7</td>\n",
       "      <td>152.36092</td>\n",
       "      <td>1997_to_2015</td>\n",
       "      <td>98042</td>\n",
       "      <td>0</td>\n",
       "      <td>1</td>\n",
       "    </tr>\n",
       "    <tr>\n",
       "      <th>18480</th>\n",
       "      <td>3</td>\n",
       "      <td>1.5</td>\n",
       "      <td>116.12875</td>\n",
       "      <td>668.344182</td>\n",
       "      <td>1.0</td>\n",
       "      <td>0</td>\n",
       "      <td>0</td>\n",
       "      <td>4</td>\n",
       "      <td>7</td>\n",
       "      <td>116.12875</td>\n",
       "      <td>1950_to_1975</td>\n",
       "      <td>98034</td>\n",
       "      <td>0</td>\n",
       "      <td>0</td>\n",
       "    </tr>\n",
       "    <tr>\n",
       "      <th>3478</th>\n",
       "      <td>3</td>\n",
       "      <td>2.0</td>\n",
       "      <td>163.50928</td>\n",
       "      <td>464.515000</td>\n",
       "      <td>1.0</td>\n",
       "      <td>0</td>\n",
       "      <td>0</td>\n",
       "      <td>5</td>\n",
       "      <td>7</td>\n",
       "      <td>89.18688</td>\n",
       "      <td>pre1950</td>\n",
       "      <td>98199</td>\n",
       "      <td>1</td>\n",
       "      <td>0</td>\n",
       "    </tr>\n",
       "    <tr>\n",
       "      <th>925</th>\n",
       "      <td>4</td>\n",
       "      <td>2.5</td>\n",
       "      <td>258.27034</td>\n",
       "      <td>973.623440</td>\n",
       "      <td>1.0</td>\n",
       "      <td>0</td>\n",
       "      <td>3</td>\n",
       "      <td>3</td>\n",
       "      <td>7</td>\n",
       "      <td>129.13517</td>\n",
       "      <td>1950_to_1975</td>\n",
       "      <td>98033</td>\n",
       "      <td>1</td>\n",
       "      <td>0</td>\n",
       "    </tr>\n",
       "  </tbody>\n",
       "</table>\n",
       "</div>"
      ],
      "text/plain": [
       "       bedrooms  bathrooms  m2_living      m2_lot  floors  waterfront  view  \\\n",
       "978           3        1.0  118.91584  809.370936     1.0           0     0   \n",
       "14162         3        2.0  152.36092  524.901950     1.0           0     0   \n",
       "18480         3        1.5  116.12875  668.344182     1.0           0     0   \n",
       "3478          3        2.0  163.50928  464.515000     1.0           0     0   \n",
       "925           4        2.5  258.27034  973.623440     1.0           0     3   \n",
       "\n",
       "       condition  grade   m2_above      yr_built  zipcode  has_basement  \\\n",
       "978            4      7  118.91584  1950_to_1975    98003             0   \n",
       "14162          3      7  152.36092  1997_to_2015    98042             0   \n",
       "18480          4      7  116.12875  1950_to_1975    98034             0   \n",
       "3478           5      7   89.18688       pre1950    98199             1   \n",
       "925            3      7  129.13517  1950_to_1975    98033             1   \n",
       "\n",
       "       was_renovated  \n",
       "978                0  \n",
       "14162              1  \n",
       "18480              0  \n",
       "3478               0  \n",
       "925                0  "
      ]
     },
     "execution_count": 84,
     "metadata": {},
     "output_type": "execute_result"
    }
   ],
   "source": [
    "X_train.head()"
   ]
  },
  {
   "cell_type": "code",
   "execution_count": 85,
   "metadata": {},
   "outputs": [
    {
     "name": "stdout",
     "output_type": "stream",
     "text": [
      "Best degree: 2\n"
     ]
    }
   ],
   "source": [
    "from sklearn.model_selection import GridSearchCV\n",
    "\n",
    "params = {'prep__num__poly__degree': [2, 3, 4]}\n",
    "grid = GridSearchCV(pipe, param_grid=params, cv=5)\n",
    "grid.fit(X_train, y_train)\n",
    "\n",
    "print(\"Best degree:\", grid.best_params_['prep__num__poly__degree'])"
   ]
  },
  {
   "cell_type": "code",
   "execution_count": 86,
   "metadata": {},
   "outputs": [
    {
     "name": "stdout",
     "output_type": "stream",
     "text": [
      "0.8737605927785108\n",
      "[239104. 461120. 515872. ... 600096. 516384. 369440.]\n",
      "8878     280000.0\n",
      "19302    575000.0\n",
      "1564     610000.0\n",
      "4055     703011.0\n",
      "7526     614285.0\n",
      "           ...   \n",
      "14763    213675.0\n",
      "14289    400000.0\n",
      "7275     485000.0\n",
      "20525    374500.0\n",
      "20869    428000.0\n",
      "Name: price, Length: 4323, dtype: float64\n"
     ]
    }
   ],
   "source": [
    "# Entrainement sur X_train\n",
    "trained_pipe = pipe.fit(X_train,y_train)\n",
    "\n",
    "# prediction sur X_test\n",
    "y_pred=trained_pipe.predict(X_test)\n",
    "\n",
    "# scoring sur X_test\n",
    "score = trained_pipe.score(X_test,y_test)\n",
    "\n",
    "print(score)\n",
    "print(y_pred)\n",
    "print(y_test)"
   ]
  },
  {
   "cell_type": "code",
   "execution_count": 87,
   "metadata": {},
   "outputs": [],
   "source": [
    "data = {\n",
    "    'bedrooms': [4],\n",
    "    'bathrooms': [1.0],\n",
    "    'm2_living': [197.91584],\n",
    "    'm2_lot': [1052.370936],\n",
    "    'floors': [2.0],\n",
    "    'waterfront': [1],\n",
    "    'view': [0],\n",
    "    'condition': [3],\n",
    "    'grade': [7],\n",
    "    'm2_above': [178.91584],\n",
    "    'yr_built': ['1950_to_1975'],\n",
    "    'zipcode': [98198],\n",
    "    'has_basement': [0],\n",
    "    'was_renovated': [1]\n",
    "}\n",
    "\n",
    "X_test = pd.DataFrame(data)"
   ]
  },
  {
   "cell_type": "code",
   "execution_count": 88,
   "metadata": {},
   "outputs": [
    {
     "name": "stdout",
     "output_type": "stream",
     "text": [
      "[-2.42364309e+14]\n"
     ]
    }
   ],
   "source": [
    "# fit the pipeline on the training data\n",
    "pipe.fit(X_train, y_train)\n",
    "\n",
    "# use the pipeline to make predictions on the test data\n",
    "y_pred = pipe.predict(X_test)\n",
    "\n",
    "# print the predicted values\n",
    "print(y_pred)"
   ]
  },
  {
   "attachments": {},
   "cell_type": "markdown",
   "metadata": {},
   "source": [
    "## Modèle 4 - Ridge"
   ]
  },
  {
   "cell_type": "code",
   "execution_count": 4,
   "metadata": {},
   "outputs": [
    {
     "name": "stdout",
     "output_type": "stream",
     "text": [
      "Score sur les données de test: 0.873\n"
     ]
    }
   ],
   "source": [
    "from sklearn.model_selection import train_test_split\n",
    "from sklearn.compose import ColumnTransformer\n",
    "from sklearn.pipeline import Pipeline\n",
    "from sklearn.preprocessing import MinMaxScaler, PolynomialFeatures, OneHotEncoder\n",
    "from sklearn.linear_model import Ridge\n",
    "\n",
    "# Diviser les données en ensembles de formation et de test\n",
    "y = df_cleaned['price']\n",
    "X = df_cleaned.drop(['price', 'date', 'm2_lot15', 'm2_living15', 'price_m2', 'id', 'lat', 'long'], axis=1)\n",
    "X_train, X_test, y_train, y_test = train_test_split(X, y, train_size=0.8, random_state=420)\n",
    "\n",
    "# Créer un pipeline de prétraitement pour les variables numériques\n",
    "numeric_features = X.select_dtypes(include=['float', 'int']).columns.tolist()\n",
    "numeric_transformer = Pipeline([\n",
    "    ('poly', PolynomialFeatures(degree=2, include_bias=False)),\n",
    "    ('stdscaler', MinMaxScaler())\n",
    "])\n",
    "\n",
    "# Créer un pré-processeur pour les variables catégorielles\n",
    "categorical_features = [\"zipcode\", \"yr_built\"]\n",
    "categorical_transformer = OneHotEncoder()\n",
    "\n",
    "# Utiliser ColumnTransformer pour appliquer le pré-traitement à chaque type de variable\n",
    "preprocessor = ColumnTransformer(\n",
    "    transformers=[\n",
    "        ('num', numeric_transformer, numeric_features),\n",
    "        ('cat', categorical_transformer, categorical_features)\n",
    "    ]\n",
    ")\n",
    "\n",
    "# Définir un modèle de régression Ridge avec une valeur d'alpha de 1\n",
    "ridge = Ridge(alpha=1)\n",
    "\n",
    "# Créer un pipeline final qui applique le prétraitement et la régression Ridge\n",
    "pipe = Pipeline([\n",
    "    ('prep', preprocessor),\n",
    "    ('ridge', ridge)\n",
    "])\n",
    "\n",
    "# Entraîner le modèle sur les données d'entraînement\n",
    "pipe.fit(X_train, y_train)\n",
    "\n",
    "# Évaluer la performance du modèle sur les données de test\n",
    "score = pipe.score(X_test, y_test)\n",
    "print(f\"Score sur les données de test: {score:.3f}\")\n",
    "\n"
   ]
  },
  {
   "cell_type": "code",
   "execution_count": 6,
   "metadata": {},
   "outputs": [
    {
     "name": "stdout",
     "output_type": "stream",
     "text": [
      "0.8725051668467998\n",
      "[252977.79115135 546579.90688433 526584.69711565 ... 564667.09014473\n",
      " 525760.10893452 365979.00573196]\n",
      "8878     280000.0\n",
      "19302    575000.0\n",
      "1564     610000.0\n",
      "4055     703011.0\n",
      "7526     614285.0\n",
      "           ...   \n",
      "14763    213675.0\n",
      "14289    400000.0\n",
      "7275     485000.0\n",
      "20525    374500.0\n",
      "20869    428000.0\n",
      "Name: price, Length: 4323, dtype: float64\n"
     ]
    }
   ],
   "source": [
    "# Entrainement sur X_train\n",
    "trained_pipe = pipe.fit(X_train,y_train)\n",
    "\n",
    "# prediction sur X_test\n",
    "y_pred=trained_pipe.predict(X_test)\n",
    "\n",
    "# scoring sur X_test\n",
    "score = trained_pipe.score(X_test,y_test)\n",
    "\n",
    "import pickle \n",
    "\n",
    "with open('trained_pipeline_v2.pkl', 'wb') as f:\n",
    "    pickle.dump(trained_pipe, f)\n",
    "    \n",
    "print(score)\n",
    "print(y_pred)\n",
    "print(y_test)"
   ]
  },
  {
   "cell_type": "code",
   "execution_count": 123,
   "metadata": {},
   "outputs": [],
   "source": [
    "data = {\n",
    "    'bedrooms': [4],\n",
    "    'bathrooms': [1.0],\n",
    "    'm2_living': [197.91584],\n",
    "    'm2_lot': [1052.370936],\n",
    "    'floors': [2.0],\n",
    "    'waterfront': [1],\n",
    "    'view': [0],\n",
    "    'condition': [3],\n",
    "    'grade': [7],\n",
    "    'm2_above': [178.91584],\n",
    "    'yr_built': ['1950_to_1975'],\n",
    "    'zipcode': [98198],\n",
    "    'has_basement': [0],\n",
    "    'was_renovated': [1]\n",
    "}\n",
    "\n",
    "X_test = pd.DataFrame(data)"
   ]
  },
  {
   "cell_type": "code",
   "execution_count": 124,
   "metadata": {},
   "outputs": [
    {
     "name": "stdout",
     "output_type": "stream",
     "text": [
      "[1010482.01308161]\n"
     ]
    }
   ],
   "source": [
    "# fit the pipeline on the training data\n",
    "pipe.fit(X_train, y_train)\n",
    "\n",
    "# use the pipeline to make predictions on the test data\n",
    "y_pred = pipe.predict(X_test)\n",
    "\n",
    "# print the predicted values\n",
    "print(y_pred)"
   ]
  },
  {
   "attachments": {},
   "cell_type": "markdown",
   "metadata": {},
   "source": [
    "## Modèle 5 : RobustScaler"
   ]
  },
  {
   "cell_type": "code",
   "execution_count": 8,
   "metadata": {},
   "outputs": [
    {
     "name": "stdout",
     "output_type": "stream",
     "text": [
      "Score sur les données de test avec RobustScaler: 0.8704193705073138\n"
     ]
    }
   ],
   "source": [
    "from sklearn.preprocessing import RobustScaler\n",
    "\n",
    "# Créer un pipeline de prétraitement pour les variables numériques avec RobustScaler\n",
    "numeric_transformer = Pipeline([\n",
    "    ('poly', PolynomialFeatures(degree=2, include_bias=False)),\n",
    "    ('robustscaler', RobustScaler())\n",
    "])\n",
    "\n",
    "# Utiliser ColumnTransformer pour appliquer le pré-traitement à chaque type de variable\n",
    "preprocessor = ColumnTransformer(\n",
    "    transformers=[\n",
    "        ('num', numeric_transformer, numeric_features),\n",
    "        ('cat', categorical_transformer, categorical_features)\n",
    "    ]\n",
    ")\n",
    "\n",
    "# Créer un pipeline final qui applique le prétraitement et la régression Ridge\n",
    "pipe = Pipeline([\n",
    "    ('prep', preprocessor),\n",
    "    ('ridge', ridge)\n",
    "])\n",
    "\n",
    "# Entraîner le modèle sur les données d'entraînement\n",
    "pipe.fit(X_train, y_train)\n",
    "\n",
    "# Évaluer la performance du modèle sur les données de test\n",
    "score = pipe.score(X_test, y_test)\n",
    "print(f\"Score sur les données de test avec RobustScaler: {score}\")\n"
   ]
  },
  {
   "attachments": {},
   "cell_type": "markdown",
   "metadata": {},
   "source": [
    "# Knn"
   ]
  },
  {
   "attachments": {},
   "cell_type": "markdown",
   "metadata": {},
   "source": [
    "## Modèle 6 - MinMaxScaler - Hyperparamètres non optimisés"
   ]
  },
  {
   "cell_type": "code",
   "execution_count": 89,
   "metadata": {},
   "outputs": [],
   "source": [
    "from sklearn.model_selection import train_test_split\n",
    "y = df_cleaned['price']\n",
    "X = df_cleaned.drop(['price', 'date', 'm2_lot15', 'm2_living15', 'price_m2', 'id', 'lat', 'long'], axis=1)\n",
    "X_train, X_test, y_train, y_test = train_test_split(X, y, train_size=0.8, random_state=420)\n",
    "\n",
    "\n",
    "# On cree un pipeline de proprocessing pour les variables numériques\n",
    "numeric_features = X.select_dtypes(include=['float', 'int']).columns.tolist()\n",
    "\n",
    "from sklearn.pipeline import Pipeline\n",
    "from sklearn.preprocessing import MinMaxScaler\n",
    "\n",
    "\n",
    "numeric_transformer = Pipeline([\n",
    "        ('stdscaler', MinMaxScaler()),  # moyenne nulle et écart type = 1 -> Reg, SVM, PCA\n",
    "        ])\n",
    "\n",
    "# On cree un pre-processeur pour les variables catégorielles\n",
    "categorial_features = [\"zipcode\",\"yr_built\"]\n",
    "\n",
    "from sklearn.preprocessing import OneHotEncoder\n",
    "categorical_transformer = OneHotEncoder()\n",
    "\n",
    "\n",
    "# a l'aide de la classe ColumnTransformer, \n",
    "# on déclare à quelles variables on applique quel transformer\n",
    "from sklearn.compose import ColumnTransformer\n",
    "preprocessor = ColumnTransformer(\n",
    "    transformers=[\n",
    "        ('num', numeric_transformer, numeric_features),\n",
    "        ('cat', categorical_transformer, categorial_features)\n",
    "    ]\n",
    ")\n",
    "\n",
    "\n",
    "#On obtient un pipeline de preprocessing qu'on peut utiliser dans un pipeline d'entrainement\n",
    "from sklearn.neighbors import KNeighborsRegressor\n",
    "knn_4 = KNeighborsRegressor(n_neighbors=3)\n",
    "\n",
    "pipe = Pipeline([\n",
    "     ('prep', preprocessor),\n",
    "     ('knn', knn_4)\n",
    "])"
   ]
  },
  {
   "cell_type": "code",
   "execution_count": 90,
   "metadata": {},
   "outputs": [
    {
     "name": "stdout",
     "output_type": "stream",
     "text": [
      "bedrooms           int64\n",
      "bathrooms        float64\n",
      "m2_living        float64\n",
      "m2_lot           float64\n",
      "floors           float64\n",
      "waterfront         int64\n",
      "view               int64\n",
      "condition          int64\n",
      "grade              int64\n",
      "m2_above         float64\n",
      "yr_built          object\n",
      "zipcode            int64\n",
      "has_basement       int64\n",
      "was_renovated      int64\n",
      "dtype: object\n"
     ]
    }
   ],
   "source": [
    "print(X.dtypes)"
   ]
  },
  {
   "cell_type": "code",
   "execution_count": 91,
   "metadata": {},
   "outputs": [
    {
     "name": "stdout",
     "output_type": "stream",
     "text": [
      "0.7341720316993996\n",
      "[227333.33333333 545816.66666667 514833.33333333 ... 533333.33333333\n",
      " 459388.33333333 400000.        ]\n",
      "8878     280000.0\n",
      "19302    575000.0\n",
      "1564     610000.0\n",
      "4055     703011.0\n",
      "7526     614285.0\n",
      "           ...   \n",
      "14763    213675.0\n",
      "14289    400000.0\n",
      "7275     485000.0\n",
      "20525    374500.0\n",
      "20869    428000.0\n",
      "Name: price, Length: 4323, dtype: float64\n"
     ]
    }
   ],
   "source": [
    "# Entrainement sur X_train\n",
    "trained_pipe = pipe.fit(X_train,y_train)\n",
    "\n",
    "# prediction sur X_test\n",
    "y_pred=trained_pipe.predict(X_test)\n",
    "\n",
    "# scoring sur X_test\n",
    "score = trained_pipe.score(X_test,y_test)\n",
    "\n",
    "print(score)\n",
    "print(y_pred)\n",
    "print(y_test)"
   ]
  },
  {
   "attachments": {},
   "cell_type": "markdown",
   "metadata": {},
   "source": [
    "## Modèle 7 - MinMaxScaler - Hyperparamètres optimisés"
   ]
  },
  {
   "cell_type": "code",
   "execution_count": 92,
   "metadata": {},
   "outputs": [
    {
     "name": "stdout",
     "output_type": "stream",
     "text": [
      "Best parameters: {'knn__n_neighbors': 4, 'knn__weights': 'distance'}\n",
      "Best score: 0.7124030135942697\n"
     ]
    }
   ],
   "source": [
    "from sklearn.model_selection import train_test_split\n",
    "y = df_cleaned['price']\n",
    "X = df_cleaned.drop(['price', 'date', 'm2_lot15', 'm2_living15', 'price_m2', 'id', 'lat', 'long'], axis=1)\n",
    "X_train, X_test, y_train, y_test = train_test_split(X, y, train_size=0.8, random_state=420)\n",
    "\n",
    "\n",
    "# On cree un pipeline de proprocessing pour les variables numériques\n",
    "numeric_features = X.select_dtypes(include=['float', 'int']).columns.tolist()\n",
    "\n",
    "from sklearn.pipeline import Pipeline\n",
    "from sklearn.preprocessing import MinMaxScaler\n",
    "\n",
    "\n",
    "numeric_transformer = Pipeline([\n",
    "        ('stdscaler', MinMaxScaler()),  # moyenne nulle et écart type = 1 -> Reg, SVM, PCA\n",
    "        ])\n",
    "\n",
    "# On cree un pre-processeur pour les variables catégorielles\n",
    "categorial_features = [\"zipcode\",\"yr_built\"]\n",
    "\n",
    "from sklearn.preprocessing import OneHotEncoder\n",
    "categorical_transformer = OneHotEncoder()\n",
    "\n",
    "\n",
    "# a l'aide de la classe ColumnTransformer, \n",
    "# on déclare à quelles variables on applique quel transformer\n",
    "from sklearn.compose import ColumnTransformer\n",
    "preprocessor = ColumnTransformer(\n",
    "    transformers=[\n",
    "        ('num', numeric_transformer, numeric_features),\n",
    "        ('cat', categorical_transformer, categorial_features)\n",
    "    ]\n",
    ")\n",
    "\n",
    "from sklearn.model_selection import GridSearchCV\n",
    "\n",
    "# Définir les paramètres à tester\n",
    "param_grid = {\n",
    "    'knn__n_neighbors': range(1, 21),\n",
    "    'knn__weights': ['uniform', 'distance']\n",
    "}\n",
    "\n",
    "# Initialiser le GridSearchCV\n",
    "grid_search = GridSearchCV(pipe, param_grid=param_grid, cv=5)\n",
    "\n",
    "# Adapter le GridSearchCV aux données d'entraînement\n",
    "grid_search.fit(X_train, y_train)\n",
    "\n",
    "# Afficher les meilleurs hyperparamètres et le score correspondant\n",
    "print(\"Best parameters:\", grid_search.best_params_)\n",
    "print(\"Best score:\", grid_search.best_score_)\n",
    "\n",
    "# Utiliser les meilleurs hyperparamètres pour entraîner un nouveau modèle\n",
    "best_params = grid_search.best_params_\n",
    "knn_best = KNeighborsRegressor(n_neighbors=best_params['knn__n_neighbors'], \n",
    "                                weights=best_params['knn__weights'])\n",
    "pipe_best = Pipeline([\n",
    "     ('prep', preprocessor),\n",
    "     ('knn', knn_best)\n",
    "]) "
   ]
  },
  {
   "cell_type": "code",
   "execution_count": 93,
   "metadata": {},
   "outputs": [
    {
     "name": "stdout",
     "output_type": "stream",
     "text": [
      "0.7432296456512788\n",
      "[256242.15119213 527636.67011704 505822.88668635 ... 579486.23231819\n",
      " 443605.33479549 378397.59510863]\n",
      "8878     280000.0\n",
      "19302    575000.0\n",
      "1564     610000.0\n",
      "4055     703011.0\n",
      "7526     614285.0\n",
      "           ...   \n",
      "14763    213675.0\n",
      "14289    400000.0\n",
      "7275     485000.0\n",
      "20525    374500.0\n",
      "20869    428000.0\n",
      "Name: price, Length: 4323, dtype: float64\n"
     ]
    }
   ],
   "source": [
    "import pickle \n",
    "\n",
    "with open('trained_pipeline.pkl', 'wb') as f:\n",
    "    pickle.dump(trained_pipe, f)\n",
    "    \n",
    "# Entrainement sur X_train\n",
    "trained_pipe = pipe_best.fit(X_train,y_train)\n",
    "\n",
    "# prediction sur X_test\n",
    "y_pred=trained_pipe.predict(X_test)\n",
    "\n",
    "# scoring sur X_test\n",
    "score = trained_pipe.score(X_test,y_test)\n",
    "\n",
    "print(score)\n",
    "print(y_pred)\n",
    "print(y_test)"
   ]
  },
  {
   "cell_type": "code",
   "execution_count": 94,
   "metadata": {},
   "outputs": [
    {
     "data": {
      "text/html": [
       "<div>\n",
       "<style scoped>\n",
       "    .dataframe tbody tr th:only-of-type {\n",
       "        vertical-align: middle;\n",
       "    }\n",
       "\n",
       "    .dataframe tbody tr th {\n",
       "        vertical-align: top;\n",
       "    }\n",
       "\n",
       "    .dataframe thead th {\n",
       "        text-align: right;\n",
       "    }\n",
       "</style>\n",
       "<table border=\"1\" class=\"dataframe\">\n",
       "  <thead>\n",
       "    <tr style=\"text-align: right;\">\n",
       "      <th></th>\n",
       "      <th>bedrooms</th>\n",
       "      <th>bathrooms</th>\n",
       "      <th>m2_living</th>\n",
       "      <th>m2_lot</th>\n",
       "      <th>floors</th>\n",
       "      <th>waterfront</th>\n",
       "      <th>view</th>\n",
       "      <th>condition</th>\n",
       "      <th>grade</th>\n",
       "      <th>m2_above</th>\n",
       "      <th>yr_built</th>\n",
       "      <th>zipcode</th>\n",
       "      <th>has_basement</th>\n",
       "      <th>was_renovated</th>\n",
       "    </tr>\n",
       "  </thead>\n",
       "  <tbody>\n",
       "    <tr>\n",
       "      <th>8878</th>\n",
       "      <td>4</td>\n",
       "      <td>2.00</td>\n",
       "      <td>203.45757</td>\n",
       "      <td>1341.426417</td>\n",
       "      <td>1.0</td>\n",
       "      <td>0</td>\n",
       "      <td>0</td>\n",
       "      <td>4</td>\n",
       "      <td>7</td>\n",
       "      <td>109.62554</td>\n",
       "      <td>1975_to_1997</td>\n",
       "      <td>98001</td>\n",
       "      <td>1</td>\n",
       "      <td>0</td>\n",
       "    </tr>\n",
       "    <tr>\n",
       "      <th>19302</th>\n",
       "      <td>8</td>\n",
       "      <td>3.00</td>\n",
       "      <td>356.74752</td>\n",
       "      <td>1485.518970</td>\n",
       "      <td>1.0</td>\n",
       "      <td>0</td>\n",
       "      <td>0</td>\n",
       "      <td>3</td>\n",
       "      <td>7</td>\n",
       "      <td>235.04459</td>\n",
       "      <td>1950_to_1975</td>\n",
       "      <td>98034</td>\n",
       "      <td>1</td>\n",
       "      <td>0</td>\n",
       "    </tr>\n",
       "    <tr>\n",
       "      <th>1564</th>\n",
       "      <td>3</td>\n",
       "      <td>1.00</td>\n",
       "      <td>167.22540</td>\n",
       "      <td>534.192250</td>\n",
       "      <td>1.0</td>\n",
       "      <td>0</td>\n",
       "      <td>0</td>\n",
       "      <td>3</td>\n",
       "      <td>7</td>\n",
       "      <td>96.61912</td>\n",
       "      <td>pre1950</td>\n",
       "      <td>98117</td>\n",
       "      <td>1</td>\n",
       "      <td>0</td>\n",
       "    </tr>\n",
       "    <tr>\n",
       "      <th>4055</th>\n",
       "      <td>2</td>\n",
       "      <td>1.00</td>\n",
       "      <td>127.27711</td>\n",
       "      <td>550.171566</td>\n",
       "      <td>1.0</td>\n",
       "      <td>0</td>\n",
       "      <td>2</td>\n",
       "      <td>3</td>\n",
       "      <td>8</td>\n",
       "      <td>104.98039</td>\n",
       "      <td>pre1950</td>\n",
       "      <td>98199</td>\n",
       "      <td>1</td>\n",
       "      <td>0</td>\n",
       "    </tr>\n",
       "    <tr>\n",
       "      <th>7526</th>\n",
       "      <td>5</td>\n",
       "      <td>2.75</td>\n",
       "      <td>253.62519</td>\n",
       "      <td>594.672103</td>\n",
       "      <td>2.0</td>\n",
       "      <td>0</td>\n",
       "      <td>0</td>\n",
       "      <td>3</td>\n",
       "      <td>8</td>\n",
       "      <td>253.62519</td>\n",
       "      <td>1997_to_2015</td>\n",
       "      <td>98072</td>\n",
       "      <td>0</td>\n",
       "      <td>1</td>\n",
       "    </tr>\n",
       "  </tbody>\n",
       "</table>\n",
       "</div>"
      ],
      "text/plain": [
       "       bedrooms  bathrooms  m2_living       m2_lot  floors  waterfront  view  \\\n",
       "8878          4       2.00  203.45757  1341.426417     1.0           0     0   \n",
       "19302         8       3.00  356.74752  1485.518970     1.0           0     0   \n",
       "1564          3       1.00  167.22540   534.192250     1.0           0     0   \n",
       "4055          2       1.00  127.27711   550.171566     1.0           0     2   \n",
       "7526          5       2.75  253.62519   594.672103     2.0           0     0   \n",
       "\n",
       "       condition  grade   m2_above      yr_built  zipcode  has_basement  \\\n",
       "8878           4      7  109.62554  1975_to_1997    98001             1   \n",
       "19302          3      7  235.04459  1950_to_1975    98034             1   \n",
       "1564           3      7   96.61912       pre1950    98117             1   \n",
       "4055           3      8  104.98039       pre1950    98199             1   \n",
       "7526           3      8  253.62519  1997_to_2015    98072             0   \n",
       "\n",
       "       was_renovated  \n",
       "8878               0  \n",
       "19302              0  \n",
       "1564               0  \n",
       "4055               0  \n",
       "7526               1  "
      ]
     },
     "execution_count": 94,
     "metadata": {},
     "output_type": "execute_result"
    }
   ],
   "source": [
    "X_test.head()"
   ]
  },
  {
   "cell_type": "code",
   "execution_count": 95,
   "metadata": {},
   "outputs": [
    {
     "data": {
      "text/plain": [
       "8878     280000.0\n",
       "19302    575000.0\n",
       "1564     610000.0\n",
       "4055     703011.0\n",
       "7526     614285.0\n",
       "Name: price, dtype: float64"
      ]
     },
     "execution_count": 95,
     "metadata": {},
     "output_type": "execute_result"
    }
   ],
   "source": [
    "y_test.head()"
   ]
  },
  {
   "attachments": {},
   "cell_type": "markdown",
   "metadata": {},
   "source": [
    "## Modèle 8 : RobustScaler"
   ]
  },
  {
   "cell_type": "code",
   "execution_count": 11,
   "metadata": {},
   "outputs": [
    {
     "name": "stdout",
     "output_type": "stream",
     "text": [
      "Best parameters: {'knn__n_neighbors': 6, 'knn__weights': 'distance'}\n",
      "Best score: 0.7817986450492305\n",
      "Score sur les données de test: 0.820\n"
     ]
    }
   ],
   "source": [
    "from sklearn.model_selection import train_test_split\n",
    "from sklearn.compose import ColumnTransformer\n",
    "from sklearn.model_selection import GridSearchCV\n",
    "from sklearn.pipeline import Pipeline\n",
    "from sklearn.preprocessing import RobustScaler, OneHotEncoder\n",
    "from sklearn.neighbors import KNeighborsRegressor\n",
    "\n",
    "# Diviser les données en ensembles de formation et de test\n",
    "y = df_cleaned['price']\n",
    "X = df_cleaned.drop(['price', 'date', 'm2_lot15', 'm2_living15', 'price_m2', 'id', 'lat', 'long'], axis=1)\n",
    "X_train, X_test, y_train, y_test = train_test_split(X, y, train_size=0.8, random_state=420)\n",
    "\n",
    "# Créer un pipeline de prétraitement pour les variables numériques\n",
    "numeric_features = X.select_dtypes(include=['float', 'int']).columns.tolist()\n",
    "numeric_transformer = Pipeline([\n",
    "    ('robustscaler', RobustScaler())\n",
    "])\n",
    "\n",
    "# Créer un pré-processeur pour les variables catégorielles\n",
    "categorical_features = [\"zipcode\", \"yr_built\"]\n",
    "categorical_transformer = OneHotEncoder()\n",
    "\n",
    "# Utiliser ColumnTransformer pour appliquer le pré-traitement à chaque type de variable\n",
    "preprocessor = ColumnTransformer(\n",
    "    transformers=[\n",
    "        ('num', numeric_transformer, numeric_features),\n",
    "        ('cat', categorical_transformer, categorical_features)\n",
    "    ]\n",
    ")\n",
    "\n",
    "# Définir un modèle de régression Ridge avec une valeur d'alpha de 1\n",
    "knn = KNeighborsRegressor()\n",
    "\n",
    "# Créer un pipeline final qui applique le prétraitement et la régression Ridge\n",
    "pipe = Pipeline([\n",
    "    ('prep', preprocessor),\n",
    "    ('knn', knn)\n",
    "])\n",
    "\n",
    "# Définir les paramètres à tester\n",
    "param_grid = {\n",
    "    'knn__n_neighbors': range(1, 21),\n",
    "    'knn__weights': ['uniform', 'distance']\n",
    "}\n",
    "\n",
    "# Initialiser le GridSearchCV\n",
    "grid_search = GridSearchCV(pipe, param_grid=param_grid, cv=5)\n",
    "\n",
    "# Adapter le GridSearchCV aux données d'entraînement\n",
    "grid_search.fit(X_train, y_train)\n",
    "\n",
    "# Afficher les meilleurs hyperparamètres et le score correspondant\n",
    "print(\"Best parameters:\", grid_search.best_params_)\n",
    "print(\"Best score:\", grid_search.best_score_)\n",
    "\n",
    "# Utiliser les meilleurs hyperparamètres pour entraîner un nouveau modèle\n",
    "best_params = grid_search.best_params_\n",
    "knn_best = KNeighborsRegressor(n_neighbors=best_params['knn__n_neighbors'], \n",
    "                                weights=best_params['knn__weights'])\n",
    "pipe_best = Pipeline([\n",
    "     ('prep', preprocessor),\n",
    "     ('knn', knn_best)\n",
    "])\n",
    "\n",
    "# Entraîner le modèle sur les données d'entraînement\n",
    "pipe_best.fit(X_train, y_train)\n",
    "\n",
    "# Évaluer la performance du modèle sur les données de test\n",
    "score = pipe_best.score(X_test, y_test)\n",
    "print(f\"Score sur les données de test: {score:.3f}\")\n"
   ]
  }
 ],
 "metadata": {
  "kernelspec": {
   "display_name": "machinelearning",
   "language": "python",
   "name": "python3"
  },
  "language_info": {
   "codemirror_mode": {
    "name": "ipython",
    "version": 3
   },
   "file_extension": ".py",
   "mimetype": "text/x-python",
   "name": "python",
   "nbconvert_exporter": "python",
   "pygments_lexer": "ipython3",
   "version": "3.10.9 (main, Jan 11 2023, 15:21:40) [GCC 11.2.0]"
  },
  "orig_nbformat": 4,
  "vscode": {
   "interpreter": {
    "hash": "abfbbb82e5734ddf6fe9d05af3064de704bc0f7110367d6a6ae63e383d8540d0"
   }
  }
 },
 "nbformat": 4,
 "nbformat_minor": 2
}
